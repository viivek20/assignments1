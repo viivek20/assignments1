{
 "cells": [
  {
   "cell_type": "code",
   "execution_count": 2,
   "id": "93d41fc4-5355-4b39-9a84-da5115e5f92d",
   "metadata": {},
   "outputs": [],
   "source": [
    "Question 1 answer :-- Guido van Rossum "
   ]
  },
  {
   "cell_type": "markdown",
   "id": "d11faff1-8831-4fe4-ae3d-d52c31586ece",
   "metadata": {},
   "source": [
    " Question :2 answer :-- Object-oriented programming and structured programming are fully supported"
   ]
  },
  {
   "cell_type": "markdown",
   "id": "cbd2d072-412c-4cce-ac85-70d0768965ba",
   "metadata": {},
   "source": [
    "question :3 answer :- Yes, Python is a case-sensitive language,  it treats uppercase and lowercase characters differently. This applies to identifiers too. You must avoid using the same name with different cases while naming identifiers."
   ]
  },
  {
   "cell_type": "markdown",
   "id": "be1afaac-c480-4d3e-b121-685a66d1b9fc",
   "metadata": {},
   "source": [
    "question 4  answer :- The correct extension of python is . py and can be written in any text editor. We need to use the extension . py to save these files."
   ]
  },
  {
   "cell_type": "code",
   "execution_count": null,
   "id": "26739a9b-dff6-46c4-b6ec-964cb9166ed4",
   "metadata": {},
   "outputs": [],
   "source": [
    "question 5 answer :- Python is an interpreted language, which means the source code of a Python program is converted into bytecode that is then executed by the Python virtual machine. Python is different from major compiled languages, such as C and C + +, as Python code is not required to be built and linked like code for these languages."
   ]
  },
  {
   "cell_type": "code",
   "execution_count": null,
   "id": "aff73f85-1747-48ae-b284-93e10879693f",
   "metadata": {},
   "outputs": [],
   "source": [
    "Question 6 answer :- Indentation is used to define a block of code in python. Braces {} are used to define a block of code in most programming languages, like C, C++, and Java. But this indentation makes python unique among all programming languages."
   ]
  },
  {
   "cell_type": "code",
   "execution_count": null,
   "id": "ddebd508-6d50-4ef2-a323-524e9b8aa9fa",
   "metadata": {},
   "outputs": [],
   "source": [
    "question 7 answer :- In Python, the # character is used to start a comment. The comment continues after the # until the end of the line."
   ]
  },
  {
   "cell_type": "code",
   "execution_count": null,
   "id": "9078b70e-7fe8-4ecb-8f14-f3fcf5d2301f",
   "metadata": {},
   "outputs": [],
   "source": [
    "question 8 answer mention below  "
   ]
  },
  {
   "cell_type": "code",
   "execution_count": 7,
   "id": "6b679c26-1569-4466-8547-9fb348451b55",
   "metadata": {},
   "outputs": [
    {
     "name": "stdout",
     "output_type": "stream",
     "text": [
      "Python version\n",
      "3.10.6 | packaged by conda-forge | (main, Aug 22 2022, 20:35:26) [GCC 10.4.0]\n",
      "Version info.\n",
      "sys.version_info(major=3, minor=10, micro=6, releaselevel='final', serial=0)\n"
     ]
    }
   ],
   "source": [
    "import sys\n",
    "print(\"Python version\")\n",
    "print (sys.version)\n",
    "print(\"Version info.\")\n",
    "print (sys.version_info)"
   ]
  },
  {
   "cell_type": "markdown",
   "id": "e055ef1d-0f4f-4dfc-a5d0-21482a4adb57",
   "metadata": {},
   "source": [
    "question 9 answer :- Python supports to make anonymous functions which are not bound to a name(@ runtime). It uses a construct called \"lambda"
   ]
  },
  {
   "cell_type": "code",
   "execution_count": null,
   "id": "f97f81e3-c021-4093-8964-721df1e20973",
   "metadata": {},
   "outputs": [],
   "source": [
    "question 10 answer :- preferred installer program"
   ]
  },
  {
   "cell_type": "code",
   "execution_count": null,
   "id": "a23ae889-deb5-4df3-aa91-bd814f0fa82d",
   "metadata": {},
   "outputs": [],
   "source": [
    "question :-11 answer :-  print( ) function\n",
    "type( ) function\n",
    "input( ) function\n",
    "len( ) function\n",
    "tuple() function\n"
   ]
  },
  {
   "cell_type": "code",
   "execution_count": null,
   "id": "f9721b2b-f345-462b-86e8-835a2a8eea8b",
   "metadata": {},
   "outputs": [],
   "source": [
    "Question :- 12 answer :- An identifier can have a maximum length of 79 characters in Python. Python is one of the most popular programming languages"
   ]
  },
  {
   "cell_type": "code",
   "execution_count": null,
   "id": "bb487382-dffa-402c-af06-d49084200dd5",
   "metadata": {},
   "outputs": [],
   "source": [
    "Question 13 What are the five benefits of using Python?\n",
    "Answer :- 5 advantages of Python\n",
    "Large developer community. Python is one of the most popular programming languages in the world. \n",
    "Extensive libraries. Python offers a wide range of libraries that can be used across various applications.\n",
    "Write less, do more. Python has very concise syntax. \n",
    "Portability. \n",
    "Wide range of use cases."
   ]
  },
  {
   "cell_type": "code",
   "execution_count": null,
   "id": "2886dced-efc9-415d-91ef-cceb2e2f35d0",
   "metadata": {},
   "outputs": [],
   "source": [
    "Question 14 :- How memory is managed in Python with example?\n",
    "Answer :- Python uses a portion of the memory for internal use and non-object memory. Another part of the memory is used for Python object such as int, dict, list, etc. CPython contains the object allocator that allocates memory within the object area. The object allocator gets a call every time the new object needs space."
   ]
  },
  {
   "cell_type": "code",
   "execution_count": null,
   "id": "8fcbcb6c-99fd-4dd5-ab05-4b5f5c5da194",
   "metadata": {},
   "outputs": [],
   "source": [
    "question 15 :- answer :- The complete path of python.exe can be added by:\n",
    "\n",
    "Right-clicking This PC and going to Properties.\n",
    "\n",
    "Clicking on the Advanced system settings in the menu on the left.\n",
    "\n",
    "Clicking on the Environment Variables button o​n the bottom right.\n",
    "\n",
    "In the System variables section, selecting the Path variable and clicking on Edit. The next screen will show all the directories that are currently a part of the PATH variable.\n",
    "\n",
    "Clicking on New and entering Python’s install directory.\n",
    "\n",
    "Python can now be used directly from the command prompt without having to write its location. Try executing the command python --version; it will output the version of Python installed on your system.\n",
    "\n",
    "Usually you can find the python installed binary in this path location: C:\\Users\\Educative\\AppData\\Local\\Programs\\Python\\Python39 \n",
    "c:\\>python --verison press enter ."
   ]
  },
  {
   "cell_type": "code",
   "execution_count": null,
   "id": "c1ce74fc-4b5b-4e36-8178-fcb9fc3c7532",
   "metadata": {},
   "outputs": [],
   "source": [
    "question :-16  answer :- \n",
    "Indentation refers to the spaces at the beginning of a code line. Where in other programming languages the indentation in code is for readability only, the indentation in Python is very important. Python uses indentation to indicate a block of code."
   ]
  }
 ],
 "metadata": {
  "kernelspec": {
   "display_name": "Python 3 (ipykernel)",
   "language": "python",
   "name": "python3"
  },
  "language_info": {
   "codemirror_mode": {
    "name": "ipython",
    "version": 3
   },
   "file_extension": ".py",
   "mimetype": "text/x-python",
   "name": "python",
   "nbconvert_exporter": "python",
   "pygments_lexer": "ipython3",
   "version": "3.10.6"
  }
 },
 "nbformat": 4,
 "nbformat_minor": 5
}
